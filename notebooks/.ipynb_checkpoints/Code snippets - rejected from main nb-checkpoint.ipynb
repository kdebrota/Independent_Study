{
 "cells": [
  {
   "cell_type": "code",
   "execution_count": null,
   "metadata": {},
   "outputs": [],
   "source": [
    "#grocery = pd.read_csv('./data/census_grocery_only.csv')\n",
    "#foodservice = pd.read_csv('./data/census_foodservice_only.csv')"
   ]
  },
  {
   "cell_type": "code",
   "execution_count": 1,
   "metadata": {},
   "outputs": [
    {
     "ename": "NameError",
     "evalue": "name 'grocery' is not defined",
     "output_type": "error",
     "traceback": [
      "\u001b[1;31m---------------------------------------------------------------------------\u001b[0m",
      "\u001b[1;31mNameError\u001b[0m                                 Traceback (most recent call last)",
      "\u001b[1;32m<ipython-input-1-6dbf55ad97d4>\u001b[0m in \u001b[0;36m<module>\u001b[1;34m\u001b[0m\n\u001b[0;32m      1\u001b[0m \u001b[1;31m####### Grocery dataset\u001b[0m\u001b[1;33m\u001b[0m\u001b[1;33m\u001b[0m\u001b[1;33m\u001b[0m\u001b[0m\n\u001b[0;32m      2\u001b[0m \u001b[1;33m\u001b[0m\u001b[0m\n\u001b[1;32m----> 3\u001b[1;33m \u001b[0mgrocery\u001b[0m\u001b[1;33m=\u001b[0m\u001b[0mgrocery\u001b[0m\u001b[1;33m.\u001b[0m\u001b[0mmerge\u001b[0m\u001b[1;33m(\u001b[0m\u001b[0mcensus_dates\u001b[0m\u001b[1;33m,\u001b[0m \u001b[0mhow\u001b[0m\u001b[1;33m=\u001b[0m\u001b[1;34m'left'\u001b[0m\u001b[1;33m,\u001b[0m \u001b[0mon\u001b[0m\u001b[1;33m=\u001b[0m\u001b[1;34m'per_idx'\u001b[0m\u001b[1;33m)\u001b[0m\u001b[1;33m\u001b[0m\u001b[1;33m\u001b[0m\u001b[0m\n\u001b[0m\u001b[0;32m      4\u001b[0m \u001b[1;31m# Be sure per_name is a date datatype\u001b[0m\u001b[1;33m\u001b[0m\u001b[1;33m\u001b[0m\u001b[1;33m\u001b[0m\u001b[0m\n\u001b[0;32m      5\u001b[0m \u001b[0mgrocery\u001b[0m\u001b[1;33m[\u001b[0m\u001b[1;34m'per_name'\u001b[0m\u001b[1;33m]\u001b[0m\u001b[1;33m=\u001b[0m\u001b[0mpd\u001b[0m\u001b[1;33m.\u001b[0m\u001b[0mto_datetime\u001b[0m\u001b[1;33m(\u001b[0m\u001b[0mgrocery\u001b[0m\u001b[1;33m[\u001b[0m\u001b[1;34m'per_name'\u001b[0m\u001b[1;33m]\u001b[0m\u001b[1;33m,\u001b[0m \u001b[0mformat\u001b[0m\u001b[1;33m=\u001b[0m\u001b[1;34m'%m/%d/%Y'\u001b[0m\u001b[1;33m)\u001b[0m\u001b[1;33m\u001b[0m\u001b[1;33m\u001b[0m\u001b[0m\n",
      "\u001b[1;31mNameError\u001b[0m: name 'grocery' is not defined"
     ]
    }
   ],
   "source": [
    "\n",
    "####### Grocery dataset\n",
    "\n",
    "grocery=grocery.merge(census_dates, how='left', on='per_idx')\n",
    "# Be sure per_name is a date datatype\n",
    "grocery['per_name']=pd.to_datetime(grocery['per_name'], format='%m/%d/%Y')\n",
    "\n",
    "\n",
    "######### Foodservice dataset\n",
    "\n",
    "foodservice=foodservice.merge(census_dates, how='left', on='per_idx')\n",
    "# Be sure per_name is a date datatype\n",
    "foodservice['per_name']=pd.to_datetime(foodservice['per_name'], format='%m/%d/%Y')"
   ]
  },
  {
   "cell_type": "code",
   "execution_count": null,
   "metadata": {},
   "outputs": [],
   "source": [
    "# Filter out only the unadjusted raw data\n",
    "grocery_unadj = grocery[(grocery['is_adj'] < 1) & (grocery['dt_idx'] == 1)]\n",
    "grocery_unadj.head()"
   ]
  },
  {
   "cell_type": "code",
   "execution_count": null,
   "metadata": {},
   "outputs": [],
   "source": [
    "plotsize=(12,8)\n",
    "sns.set_style(\"whitegrid\")\n",
    "fig, ax = plt.subplots(figsize=plotsize)\n",
    "sns.lineplot(ax=ax, x=\"per_name\", y=\"val\", data=grocery_unadj)\n",
    "ax.set(xlabel='Date', ylabel='Total U.S. Grocery Sales, Million $', title='Total Unadjusted U.S. Grocery Sales, Jan 1992 - Mar 2020')"
   ]
  },
  {
   "cell_type": "code",
   "execution_count": null,
   "metadata": {},
   "outputs": [],
   "source": [
    "# Filter out only the adjusted raw data\n",
    "grocery_adj = grocery[(grocery['is_adj'] == 1) & (grocery['dt_idx'] == 1)]\n",
    "#repeat above plot\n",
    "plotsize=(12,8)\n",
    "sns.set_style(\"whitegrid\")\n",
    "fig, ax = plt.subplots(figsize=plotsize)\n",
    "sns.lineplot(ax=ax, x=\"per_name\", y=\"val\", data=grocery_adj)\n",
    "ax.set(xlabel='Date', ylabel='Total U.S. Grocery Sales, Million $', title='Total Seasonally-Adjusted U.S. Grocery Sales, Jan 1992 - Mar 2020')"
   ]
  },
  {
   "cell_type": "code",
   "execution_count": null,
   "metadata": {},
   "outputs": [],
   "source": [
    "grocery_adj_pct = grocery[(grocery['is_adj'] == 1) & (grocery['dt_idx'] == 2)]\n",
    "grocery_adj_raw = grocery[(grocery['is_adj'] == 1) & (grocery['dt_idx']==1)]\n",
    "\n",
    "plotsize=(12,8)\n",
    "sns.set_style(\"white\")\n",
    "fig, ax = plt.subplots(figsize=plotsize)\n",
    "sns.lineplot(ax=ax, x=\"per_name\", y=\"val\", color = 'r',data=grocery_adj_pct)\n",
    "ax2 = plt.twinx()\n",
    "sns.lineplot(ax=ax2, x = 'per_name', y = 'val', color= 'b', data= grocery_adj_raw)\n",
    "\n",
    "ax.set(xlabel='Date', ylabel='Percent change in sales', title='Total Seasonally-Adjusted U.S. Grocery Sales, Jan 1992 - Mar 2020')\n",
    "ax2.set(ylabel = 'Total U.S. Grocery Sales, Million $')"
   ]
  },
  {
   "cell_type": "code",
   "execution_count": null,
   "metadata": {},
   "outputs": [],
   "source": [
    "plotsize=(12,8)\n",
    "sns.set_style(\"white\")\n",
    "fig, ax = plt.subplots(figsize=plotsize)\n",
    "sns.lineplot(ax=ax, x=\"per_name\", y=\"val\", color = 'r',data=grocery_adj_pct)\n",
    "ax2 = plt.twinx()\n",
    "sns.lineplot(ax=ax2, x = 'per_name', y = 'val', color= 'b', data= grocery_adj_raw)\n",
    "\n",
    "ax.set(xlabel='Date', ylabel='Percent change in sales', title='Total Seasonally-Adjusted U.S. Grocery Sales, Past 5 years')\n",
    "ax2.set(ylabel = 'Total U.S. Grocery Sales, Million $')\n",
    "ax.set(xlim=(datetime.date(2015,1,1), datetime.date(2020,4,1)))\n",
    "ax2.set(xlim=(datetime.date(2015,1,1), datetime.date(2020,4,1)))"
   ]
  },
  {
   "cell_type": "code",
   "execution_count": null,
   "metadata": {},
   "outputs": [],
   "source": []
  },
  {
   "cell_type": "code",
   "execution_count": null,
   "metadata": {},
   "outputs": [],
   "source": []
  },
  {
   "cell_type": "code",
   "execution_count": null,
   "metadata": {},
   "outputs": [],
   "source": []
  },
  {
   "cell_type": "code",
   "execution_count": null,
   "metadata": {},
   "outputs": [],
   "source": []
  }
 ],
 "metadata": {
  "kernelspec": {
   "display_name": "Python 3",
   "language": "python",
   "name": "python3"
  },
  "language_info": {
   "codemirror_mode": {
    "name": "ipython",
    "version": 3
   },
   "file_extension": ".py",
   "mimetype": "text/x-python",
   "name": "python",
   "nbconvert_exporter": "python",
   "pygments_lexer": "ipython3",
   "version": "3.7.4"
  },
  "toc": {
   "base_numbering": 1,
   "nav_menu": {},
   "number_sections": true,
   "sideBar": true,
   "skip_h1_title": false,
   "title_cell": "Table of Contents",
   "title_sidebar": "Contents",
   "toc_cell": false,
   "toc_position": {},
   "toc_section_display": true,
   "toc_window_display": false
  }
 },
 "nbformat": 4,
 "nbformat_minor": 2
}
