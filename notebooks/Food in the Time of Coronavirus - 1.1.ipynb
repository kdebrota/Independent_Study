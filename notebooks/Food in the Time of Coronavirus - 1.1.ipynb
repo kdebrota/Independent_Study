{
 "cells": [
  {
   "cell_type": "code",
   "execution_count": 1,
   "metadata": {},
   "outputs": [],
   "source": [
    "import numpy as np\n",
    "import scipy\n",
    "import matplotlib.pyplot as plt\n",
    "import seaborn as sns\n",
    "import pandas as pd\n",
    "import altair\n",
    "import vega_datasets\n",
    "import sklearn\n",
    "import bokeh\n",
    "import datashader\n",
    "import holoviews\n",
    "import wordcloud\n",
    "import spacy\n",
    "import datetime"
   ]
  },
  {
   "cell_type": "markdown",
   "metadata": {},
   "source": [
    "### Import data"
   ]
  },
  {
   "cell_type": "code",
   "execution_count": 2,
   "metadata": {},
   "outputs": [],
   "source": [
    "# Food expenditures data from ERS (Economic Research Service, USDA)\n",
    "#########foodexp = pd.read_csv('faps_fahitem_puf.csv')\n",
    "#########with open(, 'rb') as f:\n",
    "    ###########contents = f.read()\n",
    "# NOTE - I need to find the documentation for this, not sure what dates I am looking at?"
   ]
  },
  {
   "cell_type": "code",
   "execution_count": 3,
   "metadata": {},
   "outputs": [
    {
     "data": {
      "text/html": [
       "<div>\n",
       "<style scoped>\n",
       "    .dataframe tbody tr th:only-of-type {\n",
       "        vertical-align: middle;\n",
       "    }\n",
       "\n",
       "    .dataframe tbody tr th {\n",
       "        vertical-align: top;\n",
       "    }\n",
       "\n",
       "    .dataframe thead th {\n",
       "        text-align: right;\n",
       "    }\n",
       "</style>\n",
       "<table border=\"1\" class=\"dataframe\">\n",
       "  <thead>\n",
       "    <tr style=\"text-align: right;\">\n",
       "      <th></th>\n",
       "      <th>Year</th>\n",
       "      <th>Month</th>\n",
       "      <th>FAH_nominal_wtax_wtips_million</th>\n",
       "      <th>FAFH_nominal_wtax_wtips_million</th>\n",
       "      <th>Total_nominal_food_sales_million</th>\n",
       "      <th>FAH_constdollar_million</th>\n",
       "      <th>FAFH_constdollar_million</th>\n",
       "      <th>Total_constant_dollar_food_sales_million</th>\n",
       "    </tr>\n",
       "  </thead>\n",
       "  <tbody>\n",
       "    <tr>\n",
       "      <th>0</th>\n",
       "      <td>2019.0</td>\n",
       "      <td>December</td>\n",
       "      <td>74,901.67</td>\n",
       "      <td>73,337.91</td>\n",
       "      <td>148,239.58</td>\n",
       "      <td>36,125.06</td>\n",
       "      <td>31,012.62</td>\n",
       "      <td>67,423.64</td>\n",
       "    </tr>\n",
       "    <tr>\n",
       "      <th>1</th>\n",
       "      <td>2019.0</td>\n",
       "      <td>November</td>\n",
       "      <td>69,798.19</td>\n",
       "      <td>69,585.45</td>\n",
       "      <td>139,383.64</td>\n",
       "      <td>33,666.99</td>\n",
       "      <td>29,510.12</td>\n",
       "      <td>63,482.68</td>\n",
       "    </tr>\n",
       "    <tr>\n",
       "      <th>2</th>\n",
       "      <td>2019.0</td>\n",
       "      <td>October</td>\n",
       "      <td>67,301.77</td>\n",
       "      <td>71,609.53</td>\n",
       "      <td>138,911.30</td>\n",
       "      <td>32,380.60</td>\n",
       "      <td>30,417.63</td>\n",
       "      <td>63,227.35</td>\n",
       "    </tr>\n",
       "    <tr>\n",
       "      <th>3</th>\n",
       "      <td>2019.0</td>\n",
       "      <td>September</td>\n",
       "      <td>64,101.42</td>\n",
       "      <td>69,391.72</td>\n",
       "      <td>133,493.14</td>\n",
       "      <td>30,942.60</td>\n",
       "      <td>29,531.69</td>\n",
       "      <td>60,922.88</td>\n",
       "    </tr>\n",
       "    <tr>\n",
       "      <th>4</th>\n",
       "      <td>2019.0</td>\n",
       "      <td>August</td>\n",
       "      <td>69,333.52</td>\n",
       "      <td>75,675.25</td>\n",
       "      <td>145,008.77</td>\n",
       "      <td>33,522.32</td>\n",
       "      <td>32,289.19</td>\n",
       "      <td>66,314.81</td>\n",
       "    </tr>\n",
       "  </tbody>\n",
       "</table>\n",
       "</div>"
      ],
      "text/plain": [
       "     Year      Month FAH_nominal_wtax_wtips_million  \\\n",
       "0  2019.0   December                      74,901.67   \n",
       "1  2019.0   November                      69,798.19   \n",
       "2  2019.0    October                      67,301.77   \n",
       "3  2019.0  September                      64,101.42   \n",
       "4  2019.0     August                      69,333.52   \n",
       "\n",
       "  FAFH_nominal_wtax_wtips_million Total_nominal_food_sales_million  \\\n",
       "0                       73,337.91                       148,239.58   \n",
       "1                       69,585.45                       139,383.64   \n",
       "2                       71,609.53                       138,911.30   \n",
       "3                       69,391.72                       133,493.14   \n",
       "4                       75,675.25                       145,008.77   \n",
       "\n",
       "  FAH_constdollar_million FAFH_constdollar_million  \\\n",
       "0               36,125.06                31,012.62   \n",
       "1               33,666.99                29,510.12   \n",
       "2               32,380.60                30,417.63   \n",
       "3               30,942.60                29,531.69   \n",
       "4               33,522.32                32,289.19   \n",
       "\n",
       "  Total_constant_dollar_food_sales_million  \n",
       "0                                67,423.64  \n",
       "1                                63,482.68  \n",
       "2                                63,227.35  \n",
       "3                                60,922.88  \n",
       "4                                66,314.81  "
      ]
     },
     "execution_count": 3,
     "metadata": {},
     "output_type": "execute_result"
    }
   ],
   "source": [
    "# Monthly expenditures data, ERS (USDA) Updated Feb 25, 2020\n",
    "#Note, 'constant dollar' refers to 1988 = 100\n",
    "monthly_sales=pd.read_csv('./data/monthly_sales_cleaned.csv')\n",
    "monthly_sales.head()"
   ]
  },
  {
   "cell_type": "code",
   "execution_count": 4,
   "metadata": {},
   "outputs": [],
   "source": [
    "# Census data\n",
    "# https://www.census.gov/econ/currentdata/dbsearch?program=MARTS&startYear=1992&endYear=2020&categories%5B%5D=445&categories%5B%5D=4451&categories%5B%5D=446&categories%5B%5D=722&dataType=SM&geoLevel=US&adjusted=1&notAdjusted=1&submit=GET+DATA&releaseScheduleId=\n",
    "census = pd.read_csv('./data/census_data_all.csv')\n",
    "grocery = pd.read_csv('./data/census_grocery_only.csv')\n",
    "census_dates= pd.read_csv('./data/census_per_index_dates.csv')\n",
    "foodservice = pd.read_csv('./data/census_foodservice_only.csv')"
   ]
  },
  {
   "cell_type": "markdown",
   "metadata": {},
   "source": [
    "### EDA: census data\n"
   ]
  },
  {
   "cell_type": "markdown",
   "metadata": {},
   "source": [
    "This data gives \"Advance monthly sales for retail and food services\", one data point per month for all years between Jan 1992 and March 2020. \n",
    "\n",
    "- per_idx is the period index or date at which the data was collected. These correspond to actual date values.\n",
    "- dt_idx describes the data type: 1 = Monthly sales in millions of US dollars. 2 = Monthly sales % change.\n",
    "- et_idx describes error types: 1 = CV of sales, monthly. 2 = SE of sales, monthly % change.\n",
    "- is_adj refers to whether or not the data was (1) or was not (0) seasonally adjusted.\n",
    "- val = monthly sales value in millions of US dollars from (in this case) grocery stores.\n",
    "\n",
    "All data was taken over the entire US as a whole.\n",
    "Data source: US Census"
   ]
  },
  {
   "cell_type": "code",
   "execution_count": 5,
   "metadata": {},
   "outputs": [
    {
     "data": {
      "text/plain": [
       "(45962, 7)"
      ]
     },
     "execution_count": 5,
     "metadata": {},
     "output_type": "execute_result"
    }
   ],
   "source": [
    "census.shape"
   ]
  },
  {
   "cell_type": "code",
   "execution_count": 6,
   "metadata": {},
   "outputs": [
    {
     "data": {
      "text/html": [
       "<div>\n",
       "<style scoped>\n",
       "    .dataframe tbody tr th:only-of-type {\n",
       "        vertical-align: middle;\n",
       "    }\n",
       "\n",
       "    .dataframe tbody tr th {\n",
       "        vertical-align: top;\n",
       "    }\n",
       "\n",
       "    .dataframe thead th {\n",
       "        text-align: right;\n",
       "    }\n",
       "</style>\n",
       "<table border=\"1\" class=\"dataframe\">\n",
       "  <thead>\n",
       "    <tr style=\"text-align: right;\">\n",
       "      <th></th>\n",
       "      <th>per_idx</th>\n",
       "      <th>cat_idx</th>\n",
       "      <th>dt_idx</th>\n",
       "      <th>et_idx</th>\n",
       "      <th>geo_idx</th>\n",
       "      <th>is_adj</th>\n",
       "      <th>val</th>\n",
       "    </tr>\n",
       "  </thead>\n",
       "  <tbody>\n",
       "    <tr>\n",
       "      <th>count</th>\n",
       "      <td>45962.000000</td>\n",
       "      <td>45962.000000</td>\n",
       "      <td>45962.000000</td>\n",
       "      <td>45962.000000</td>\n",
       "      <td>45962.0</td>\n",
       "      <td>45962.000000</td>\n",
       "      <td>45962.000000</td>\n",
       "    </tr>\n",
       "    <tr>\n",
       "      <th>mean</th>\n",
       "      <td>191.761499</td>\n",
       "      <td>11.265002</td>\n",
       "      <td>0.927505</td>\n",
       "      <td>0.572038</td>\n",
       "      <td>1.0</td>\n",
       "      <td>0.500000</td>\n",
       "      <td>27901.286963</td>\n",
       "    </tr>\n",
       "    <tr>\n",
       "      <th>std</th>\n",
       "      <td>91.300152</td>\n",
       "      <td>5.991364</td>\n",
       "      <td>0.827636</td>\n",
       "      <td>0.791317</td>\n",
       "      <td>0.0</td>\n",
       "      <td>0.500005</td>\n",
       "      <td>79278.020124</td>\n",
       "    </tr>\n",
       "    <tr>\n",
       "      <th>min</th>\n",
       "      <td>1.000000</td>\n",
       "      <td>1.000000</td>\n",
       "      <td>0.000000</td>\n",
       "      <td>0.000000</td>\n",
       "      <td>1.0</td>\n",
       "      <td>0.000000</td>\n",
       "      <td>-62.400000</td>\n",
       "    </tr>\n",
       "    <tr>\n",
       "      <th>25%</th>\n",
       "      <td>125.000000</td>\n",
       "      <td>6.000000</td>\n",
       "      <td>0.000000</td>\n",
       "      <td>0.000000</td>\n",
       "      <td>1.0</td>\n",
       "      <td>0.000000</td>\n",
       "      <td>0.300000</td>\n",
       "    </tr>\n",
       "    <tr>\n",
       "      <th>50%</th>\n",
       "      <td>197.000000</td>\n",
       "      <td>11.000000</td>\n",
       "      <td>1.000000</td>\n",
       "      <td>0.000000</td>\n",
       "      <td>1.0</td>\n",
       "      <td>0.500000</td>\n",
       "      <td>1.500000</td>\n",
       "    </tr>\n",
       "    <tr>\n",
       "      <th>75%</th>\n",
       "      <td>269.000000</td>\n",
       "      <td>16.000000</td>\n",
       "      <td>2.000000</td>\n",
       "      <td>1.000000</td>\n",
       "      <td>1.0</td>\n",
       "      <td>1.000000</td>\n",
       "      <td>9783.750000</td>\n",
       "    </tr>\n",
       "    <tr>\n",
       "      <th>max</th>\n",
       "      <td>339.000000</td>\n",
       "      <td>21.000000</td>\n",
       "      <td>2.000000</td>\n",
       "      <td>2.000000</td>\n",
       "      <td>1.0</td>\n",
       "      <td>1.000000</td>\n",
       "      <td>591380.000000</td>\n",
       "    </tr>\n",
       "  </tbody>\n",
       "</table>\n",
       "</div>"
      ],
      "text/plain": [
       "            per_idx       cat_idx        dt_idx        et_idx  geo_idx  \\\n",
       "count  45962.000000  45962.000000  45962.000000  45962.000000  45962.0   \n",
       "mean     191.761499     11.265002      0.927505      0.572038      1.0   \n",
       "std       91.300152      5.991364      0.827636      0.791317      0.0   \n",
       "min        1.000000      1.000000      0.000000      0.000000      1.0   \n",
       "25%      125.000000      6.000000      0.000000      0.000000      1.0   \n",
       "50%      197.000000     11.000000      1.000000      0.000000      1.0   \n",
       "75%      269.000000     16.000000      2.000000      1.000000      1.0   \n",
       "max      339.000000     21.000000      2.000000      2.000000      1.0   \n",
       "\n",
       "             is_adj            val  \n",
       "count  45962.000000   45962.000000  \n",
       "mean       0.500000   27901.286963  \n",
       "std        0.500005   79278.020124  \n",
       "min        0.000000     -62.400000  \n",
       "25%        0.000000       0.300000  \n",
       "50%        0.500000       1.500000  \n",
       "75%        1.000000    9783.750000  \n",
       "max        1.000000  591380.000000  "
      ]
     },
     "execution_count": 6,
     "metadata": {},
     "output_type": "execute_result"
    }
   ],
   "source": [
    "census.describe()"
   ]
  },
  {
   "cell_type": "markdown",
   "metadata": {},
   "source": [
    "#### Joining correct per_name column"
   ]
  },
  {
   "cell_type": "code",
   "execution_count": 7,
   "metadata": {},
   "outputs": [
    {
     "data": {
      "text/html": [
       "<div>\n",
       "<style scoped>\n",
       "    .dataframe tbody tr th:only-of-type {\n",
       "        vertical-align: middle;\n",
       "    }\n",
       "\n",
       "    .dataframe tbody tr th {\n",
       "        vertical-align: top;\n",
       "    }\n",
       "\n",
       "    .dataframe thead th {\n",
       "        text-align: right;\n",
       "    }\n",
       "</style>\n",
       "<table border=\"1\" class=\"dataframe\">\n",
       "  <thead>\n",
       "    <tr style=\"text-align: right;\">\n",
       "      <th></th>\n",
       "      <th>per_idx</th>\n",
       "      <th>cat_idx</th>\n",
       "      <th>dt_idx</th>\n",
       "      <th>et_idx</th>\n",
       "      <th>geo_idx</th>\n",
       "      <th>is_adj</th>\n",
       "      <th>val</th>\n",
       "      <th>per_name</th>\n",
       "    </tr>\n",
       "  </thead>\n",
       "  <tbody>\n",
       "    <tr>\n",
       "      <th>0</th>\n",
       "      <td>1</td>\n",
       "      <td>5</td>\n",
       "      <td>1</td>\n",
       "      <td>0</td>\n",
       "      <td>1</td>\n",
       "      <td>0</td>\n",
       "      <td>130683.0</td>\n",
       "      <td>1992-01-01</td>\n",
       "    </tr>\n",
       "    <tr>\n",
       "      <th>1</th>\n",
       "      <td>1</td>\n",
       "      <td>5</td>\n",
       "      <td>1</td>\n",
       "      <td>0</td>\n",
       "      <td>1</td>\n",
       "      <td>1</td>\n",
       "      <td>146925.0</td>\n",
       "      <td>1992-01-01</td>\n",
       "    </tr>\n",
       "    <tr>\n",
       "      <th>2</th>\n",
       "      <td>1</td>\n",
       "      <td>6</td>\n",
       "      <td>1</td>\n",
       "      <td>0</td>\n",
       "      <td>1</td>\n",
       "      <td>0</td>\n",
       "      <td>29811.0</td>\n",
       "      <td>1992-01-01</td>\n",
       "    </tr>\n",
       "    <tr>\n",
       "      <th>3</th>\n",
       "      <td>1</td>\n",
       "      <td>6</td>\n",
       "      <td>1</td>\n",
       "      <td>0</td>\n",
       "      <td>1</td>\n",
       "      <td>1</td>\n",
       "      <td>33478.0</td>\n",
       "      <td>1992-01-01</td>\n",
       "    </tr>\n",
       "    <tr>\n",
       "      <th>4</th>\n",
       "      <td>1</td>\n",
       "      <td>7</td>\n",
       "      <td>1</td>\n",
       "      <td>0</td>\n",
       "      <td>1</td>\n",
       "      <td>0</td>\n",
       "      <td>26788.0</td>\n",
       "      <td>1992-01-01</td>\n",
       "    </tr>\n",
       "  </tbody>\n",
       "</table>\n",
       "</div>"
      ],
      "text/plain": [
       "   per_idx  cat_idx  dt_idx  et_idx  geo_idx  is_adj       val   per_name\n",
       "0        1        5       1       0        1       0  130683.0 1992-01-01\n",
       "1        1        5       1       0        1       1  146925.0 1992-01-01\n",
       "2        1        6       1       0        1       0   29811.0 1992-01-01\n",
       "3        1        6       1       0        1       1   33478.0 1992-01-01\n",
       "4        1        7       1       0        1       0   26788.0 1992-01-01"
      ]
     },
     "execution_count": 7,
     "metadata": {},
     "output_type": "execute_result"
    }
   ],
   "source": [
    "census = census.merge(census_dates, how = 'left', on = 'per_idx')\n",
    "census['per_name']=pd.to_datetime(census['per_name'], format='%m/%d/%Y')\n",
    "census.head()\n"
   ]
  },
  {
   "cell_type": "markdown",
   "metadata": {},
   "source": [
    "#### Filtering data to include only food-related columns "
   ]
  },
  {
   "cell_type": "code",
   "execution_count": 8,
   "metadata": {},
   "outputs": [],
   "source": [
    "# Filter out only the food-related cat_idx values we care about: 11, 12, 13, 21\n",
    "census = census[census.cat_idx.isin([11, 12, 13, 21])]\n",
    "\n",
    "# Filters:\n",
    "\n",
    "# Only dollar data, separated by adjusted/unadjusted\n",
    "census_unadj = census[(census['is_adj'] < 1) & (census['dt_idx'] == 1)] # this is $ data\n",
    "census_adj = census[(census['is_adj'] == 1) & (census['dt_idx'] == 1)] # this is $ data\n",
    "\n",
    "# Only percentage data, separated by adjusted/unadjusted\n",
    "#census_unadj_pct = census[(census['is_adj'] < 1) & (census['dt_idx'] == 2)] # this is % data\n",
    "#census_adj_pct = census[(census['is_adj'] == 1) & (census['dt_idx'] == 2)] # this is % data\n",
    "\n"
   ]
  },
  {
   "cell_type": "markdown",
   "metadata": {},
   "source": [
    "#### Reassigning the cat_idx codes to meanings"
   ]
  },
  {
   "cell_type": "code",
   "execution_count": null,
   "metadata": {},
   "outputs": [],
   "source": [
    "# TO DO"
   ]
  },
  {
   "cell_type": "code",
   "execution_count": null,
   "metadata": {},
   "outputs": [],
   "source": [
    "# ALSO check that the filter worked, for some reason chart below is not showing correct nums"
   ]
  },
  {
   "cell_type": "code",
   "execution_count": null,
   "metadata": {},
   "outputs": [],
   "source": []
  },
  {
   "cell_type": "markdown",
   "metadata": {},
   "source": [
    "#### Raw data plots (adjusted)"
   ]
  },
  {
   "cell_type": "code",
   "execution_count": 9,
   "metadata": {},
   "outputs": [
    {
     "data": {
      "text/plain": [
       "[Text(0, 0.5, 'Total U.S. Grocery Sales, Million $'),\n",
       " Text(0.5, 0, 'Date'),\n",
       " Text(0.5, 1.0, 'Total Adjusted U.S. Grocery Sales')]"
      ]
     },
     "execution_count": 9,
     "metadata": {},
     "output_type": "execute_result"
    },
    {
     "data": {
      "image/png": "[encoded data removed]",
      "text/plain": [
       "<Figure size 864x576 with 1 Axes>"
      ]
     },
     "metadata": {},
     "output_type": "display_data"
    }
   ],
   "source": [
    "plotsize=(12,8)\n",
    "sns.set_style(\"white\")\n",
    "fig, ax = plt.subplots(figsize=plotsize)\n",
    "sns.lineplot(ax=ax, x=\"per_name\", y=\"val\", hue='cat_idx',data=census_adj)\n",
    "#ax2 = plt.twinx()\n",
    "#sns.lineplot(ax=ax2, x = 'per_name', y = 'val', hue='cat_idx', color= 'b', data= census_unadj)\n",
    "\n",
    "ax.set(xlabel='Date', ylabel='Total U.S. Grocery Sales, Million $', title='Total Adjusted U.S. Grocery Sales')\n",
    "#ax2.set(ylabel = 'Total U.S. Grocery Sales, Million $')\n",
    "#ax.set(xlim=(datetime.date(2015,1,1), datetime.date(2020,4,1)))\n",
    "#ax2.set(xlim=(datetime.date(2015,1,1), datetime.date(2020,4,1)))"
   ]
  },
  {
   "cell_type": "code",
   "execution_count": null,
   "metadata": {},
   "outputs": [],
   "source": []
  },
  {
   "cell_type": "code",
   "execution_count": null,
   "metadata": {},
   "outputs": [],
   "source": []
  },
  {
   "cell_type": "code",
   "execution_count": null,
   "metadata": {},
   "outputs": [],
   "source": []
  },
  {
   "cell_type": "code",
   "execution_count": null,
   "metadata": {},
   "outputs": [],
   "source": []
  },
  {
   "cell_type": "code",
   "execution_count": null,
   "metadata": {},
   "outputs": [],
   "source": []
  },
  {
   "cell_type": "code",
   "execution_count": null,
   "metadata": {},
   "outputs": [],
   "source": []
  },
  {
   "cell_type": "code",
   "execution_count": null,
   "metadata": {},
   "outputs": [],
   "source": []
  },
  {
   "cell_type": "code",
   "execution_count": null,
   "metadata": {},
   "outputs": [],
   "source": [
    "\n",
    "####### Grocery dataset\n",
    "\n",
    "grocery=grocery.merge(census_dates, how='left', on='per_idx')\n",
    "# Be sure per_name is a date datatype\n",
    "grocery['per_name']=pd.to_datetime(grocery['per_name'], format='%m/%d/%Y')\n",
    "\n",
    "\n",
    "######### Foodservice dataset\n",
    "\n",
    "foodservice=foodservice.merge(census_dates, how='left', on='per_idx')\n",
    "# Be sure per_name is a date datatype\n",
    "foodservice['per_name']=pd.to_datetime(foodservice['per_name'], format='%m/%d/%Y')"
   ]
  },
  {
   "cell_type": "markdown",
   "metadata": {},
   "source": [
    "Basic view of the raw data:"
   ]
  },
  {
   "cell_type": "code",
   "execution_count": null,
   "metadata": {},
   "outputs": [],
   "source": [
    "# Filter out only the unadjusted raw data\n",
    "grocery_unadj = grocery[(grocery['is_adj'] < 1) & (grocery['dt_idx'] == 1)]\n",
    "grocery_unadj.head()\n"
   ]
  },
  {
   "cell_type": "code",
   "execution_count": null,
   "metadata": {},
   "outputs": [],
   "source": [
    "plotsize=(12,8)\n",
    "sns.set_style(\"whitegrid\")\n",
    "fig, ax = plt.subplots(figsize=plotsize)\n",
    "sns.lineplot(ax=ax, x=\"per_name\", y=\"val\", data=grocery_unadj)\n",
    "ax.set(xlabel='Date', ylabel='Total U.S. Grocery Sales, Million $', title='Total Unadjusted U.S. Grocery Sales, Jan 1992 - Mar 2020')"
   ]
  },
  {
   "cell_type": "code",
   "execution_count": null,
   "metadata": {},
   "outputs": [],
   "source": [
    "# Filter out only the adjusted raw data\n",
    "grocery_adj = grocery[(grocery['is_adj'] == 1) & (grocery['dt_idx'] == 1)]\n",
    "#repeat above plot\n",
    "plotsize=(12,8)\n",
    "sns.set_style(\"whitegrid\")\n",
    "fig, ax = plt.subplots(figsize=plotsize)\n",
    "sns.lineplot(ax=ax, x=\"per_name\", y=\"val\", data=grocery_adj)\n",
    "ax.set(xlabel='Date', ylabel='Total U.S. Grocery Sales, Million $', title='Total Seasonally-Adjusted U.S. Grocery Sales, Jan 1992 - Mar 2020')"
   ]
  },
  {
   "cell_type": "markdown",
   "metadata": {},
   "source": [
    "It's immediately clear that there is a huge spike recently, due to the COVID-19 pandemic. "
   ]
  },
  {
   "cell_type": "code",
   "execution_count": null,
   "metadata": {},
   "outputs": [],
   "source": [
    "# Unnecessary predecessor plot to the below\n",
    "\n",
    "#plotsize=(12,8)\n",
    "#fig, ax = plt.subplots(figsize=plotsize)\n",
    "#sns.lineplot(ax=ax, x=\"per_name\", y=\"val\", data=grocery_adj)\n",
    "#ax.set(xlabel='Date', ylabel='Total U.S. Grocery Sales, Million $', title='Total Seasonally-Adjusted U.S. Grocery Sales,Past 5 years')\n",
    "#ax.set(xlim=(datetime.date(2015,1,1), datetime.date(2020,4,1)))"
   ]
  },
  {
   "cell_type": "markdown",
   "metadata": {},
   "source": [
    "Now let's look at how this compares to the % change:"
   ]
  },
  {
   "cell_type": "code",
   "execution_count": null,
   "metadata": {},
   "outputs": [],
   "source": [
    "grocery_adj_pct = grocery[(grocery['is_adj'] == 1) & (grocery['dt_idx'] == 2)]\n",
    "grocery_adj_raw = grocery[(grocery['is_adj'] == 1) & (grocery['dt_idx']==1)]\n",
    "\n",
    "plotsize=(12,8)\n",
    "sns.set_style(\"white\")\n",
    "fig, ax = plt.subplots(figsize=plotsize)\n",
    "sns.lineplot(ax=ax, x=\"per_name\", y=\"val\", color = 'r',data=grocery_adj_pct)\n",
    "ax2 = plt.twinx()\n",
    "sns.lineplot(ax=ax2, x = 'per_name', y = 'val', color= 'b', data= grocery_adj_raw)\n",
    "\n",
    "ax.set(xlabel='Date', ylabel='Percent change in sales', title='Total Seasonally-Adjusted U.S. Grocery Sales, Jan 1992 - Mar 2020')\n",
    "ax2.set(ylabel = 'Total U.S. Grocery Sales, Million $')"
   ]
  },
  {
   "cell_type": "code",
   "execution_count": null,
   "metadata": {},
   "outputs": [],
   "source": [
    "plotsize=(12,8)\n",
    "sns.set_style(\"white\")\n",
    "fig, ax = plt.subplots(figsize=plotsize)\n",
    "sns.lineplot(ax=ax, x=\"per_name\", y=\"val\", color = 'r',data=grocery_adj_pct)\n",
    "ax2 = plt.twinx()\n",
    "sns.lineplot(ax=ax2, x = 'per_name', y = 'val', color= 'b', data= grocery_adj_raw)\n",
    "\n",
    "ax.set(xlabel='Date', ylabel='Percent change in sales', title='Total Seasonally-Adjusted U.S. Grocery Sales, Past 5 years')\n",
    "ax2.set(ylabel = 'Total U.S. Grocery Sales, Million $')\n",
    "ax.set(xlim=(datetime.date(2015,1,1), datetime.date(2020,4,1)))\n",
    "ax2.set(xlim=(datetime.date(2015,1,1), datetime.date(2020,4,1)))"
   ]
  },
  {
   "cell_type": "markdown",
   "metadata": {},
   "source": [
    "### EDA: foodservice data"
   ]
  },
  {
   "cell_type": "code",
   "execution_count": null,
   "metadata": {},
   "outputs": [],
   "source": [
    "\n",
    "\n"
   ]
  },
  {
   "cell_type": "code",
   "execution_count": null,
   "metadata": {},
   "outputs": [],
   "source": []
  },
  {
   "cell_type": "markdown",
   "metadata": {},
   "source": [
    "### EDA: monthly_sales"
   ]
  },
  {
   "cell_type": "code",
   "execution_count": null,
   "metadata": {},
   "outputs": [],
   "source": [
    "monthly_sales.shape\n",
    "#There are 281 rows and 8 columns"
   ]
  },
  {
   "cell_type": "code",
   "execution_count": null,
   "metadata": {},
   "outputs": [],
   "source": [
    "monthly_sales.dtypes.value_counts()\n",
    "monthly_sales.dropna()"
   ]
  },
  {
   "cell_type": "code",
   "execution_count": null,
   "metadata": {},
   "outputs": [],
   "source": [
    "#Change dtypes from 'object' to float for other columns besides month\n",
    "\n",
    "numcols=[\"FAH_nominal_wtax_wtips_million\", \n",
    "               \"FAFH_nominal_wtax_wtips_million\", \n",
    "               \"Total_nominal_food_sales_million\", \n",
    "               \"FAH_constdollar_million\", \n",
    "               \"FAFH_constdollar_million\", \n",
    "               \"Total_constant_dollar_food_sales_million\"]\n",
    "\n",
    "# Remove commas\n",
    "monthly_sales[numcols] = monthly_sales[numcols].replace({',': ''}, regex=True)\n",
    "\n",
    "#Convert strings without commas into numeric values\n",
    "monthly_sales[monthly_sales.columns[2:]] = monthly_sales[monthly_sales.columns[2:]].apply(pd.to_numeric, downcast='float')\n",
    "monthly_sales.dtypes.value_counts()"
   ]
  },
  {
   "cell_type": "code",
   "execution_count": null,
   "metadata": {},
   "outputs": [],
   "source": [
    "monthly_sales.describe()"
   ]
  },
  {
   "cell_type": "markdown",
   "metadata": {},
   "source": [
    "The data spans 1997 to December 2019. \n",
    "\n",
    "FAH = \"Food At Home\"\n",
    "FAFH = \"Food Away From Home\"\n",
    "\n",
    "Does not includ schools/institutions. Data is in millions of US dollars. Values are total monthly sales."
   ]
  },
  {
   "cell_type": "code",
   "execution_count": null,
   "metadata": {},
   "outputs": [],
   "source": []
  },
  {
   "cell_type": "code",
   "execution_count": null,
   "metadata": {},
   "outputs": [],
   "source": []
  }
 ],
 "metadata": {
  "kernelspec": {
   "display_name": "dviz",
   "language": "python",
   "name": "dviz"
  },
  "language_info": {
   "codemirror_mode": {
    "name": "ipython",
    "version": 3
   },
   "file_extension": ".py",
   "mimetype": "text/x-python",
   "name": "python",
   "nbconvert_exporter": "python",
   "pygments_lexer": "ipython3",
   "version": "3.7.4"
  },
  "toc": {
   "base_numbering": 1,
   "nav_menu": {},
   "number_sections": true,
   "sideBar": true,
   "skip_h1_title": false,
   "title_cell": "Table of Contents",
   "title_sidebar": "Contents",
   "toc_cell": false,
   "toc_position": {
    "height": "calc(100% - 180px)",
    "left": "10px",
    "top": "150px",
    "width": "184.375px"
   },
   "toc_section_display": true,
   "toc_window_display": true
  }
 },
 "nbformat": 4,
 "nbformat_minor": 2
}
